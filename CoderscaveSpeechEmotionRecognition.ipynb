{
  "nbformat": 4,
  "nbformat_minor": 0,
  "metadata": {
    "colab": {
      "provenance": []
    },
    "kernelspec": {
      "name": "python3",
      "display_name": "Python 3"
    },
    "language_info": {
      "name": "python"
    }
  },
  "cells": [
    {
      "cell_type": "code",
      "execution_count": 1,
      "metadata": {
        "colab": {
          "base_uri": "https://localhost:8080/"
        },
        "id": "ryPu7yt3BU5Q",
        "outputId": "c3fb9456-e0cb-4d6f-8e93-a6e948dd97d1"
      },
      "outputs": [
        {
          "output_type": "stream",
          "name": "stdout",
          "text": [
            "Requirement already satisfied: librosa in /usr/local/lib/python3.10/dist-packages (0.10.1)\n",
            "Requirement already satisfied: audioread>=2.1.9 in /usr/local/lib/python3.10/dist-packages (from librosa) (3.0.1)\n",
            "Requirement already satisfied: numpy!=1.22.0,!=1.22.1,!=1.22.2,>=1.20.3 in /usr/local/lib/python3.10/dist-packages (from librosa) (1.23.5)\n",
            "Requirement already satisfied: scipy>=1.2.0 in /usr/local/lib/python3.10/dist-packages (from librosa) (1.11.3)\n",
            "Requirement already satisfied: scikit-learn>=0.20.0 in /usr/local/lib/python3.10/dist-packages (from librosa) (1.2.2)\n",
            "Requirement already satisfied: joblib>=0.14 in /usr/local/lib/python3.10/dist-packages (from librosa) (1.3.2)\n",
            "Requirement already satisfied: decorator>=4.3.0 in /usr/local/lib/python3.10/dist-packages (from librosa) (4.4.2)\n",
            "Requirement already satisfied: numba>=0.51.0 in /usr/local/lib/python3.10/dist-packages (from librosa) (0.58.1)\n",
            "Requirement already satisfied: soundfile>=0.12.1 in /usr/local/lib/python3.10/dist-packages (from librosa) (0.12.1)\n",
            "Requirement already satisfied: pooch>=1.0 in /usr/local/lib/python3.10/dist-packages (from librosa) (1.8.0)\n",
            "Requirement already satisfied: soxr>=0.3.2 in /usr/local/lib/python3.10/dist-packages (from librosa) (0.3.7)\n",
            "Requirement already satisfied: typing-extensions>=4.1.1 in /usr/local/lib/python3.10/dist-packages (from librosa) (4.5.0)\n",
            "Requirement already satisfied: lazy-loader>=0.1 in /usr/local/lib/python3.10/dist-packages (from librosa) (0.3)\n",
            "Requirement already satisfied: msgpack>=1.0 in /usr/local/lib/python3.10/dist-packages (from librosa) (1.0.7)\n",
            "Requirement already satisfied: llvmlite<0.42,>=0.41.0dev0 in /usr/local/lib/python3.10/dist-packages (from numba>=0.51.0->librosa) (0.41.1)\n",
            "Requirement already satisfied: platformdirs>=2.5.0 in /usr/local/lib/python3.10/dist-packages (from pooch>=1.0->librosa) (4.0.0)\n",
            "Requirement already satisfied: packaging>=20.0 in /usr/local/lib/python3.10/dist-packages (from pooch>=1.0->librosa) (23.2)\n",
            "Requirement already satisfied: requests>=2.19.0 in /usr/local/lib/python3.10/dist-packages (from pooch>=1.0->librosa) (2.31.0)\n",
            "Requirement already satisfied: threadpoolctl>=2.0.0 in /usr/local/lib/python3.10/dist-packages (from scikit-learn>=0.20.0->librosa) (3.2.0)\n",
            "Requirement already satisfied: cffi>=1.0 in /usr/local/lib/python3.10/dist-packages (from soundfile>=0.12.1->librosa) (1.16.0)\n",
            "Requirement already satisfied: pycparser in /usr/local/lib/python3.10/dist-packages (from cffi>=1.0->soundfile>=0.12.1->librosa) (2.21)\n",
            "Requirement already satisfied: charset-normalizer<4,>=2 in /usr/local/lib/python3.10/dist-packages (from requests>=2.19.0->pooch>=1.0->librosa) (3.3.2)\n",
            "Requirement already satisfied: idna<4,>=2.5 in /usr/local/lib/python3.10/dist-packages (from requests>=2.19.0->pooch>=1.0->librosa) (3.4)\n",
            "Requirement already satisfied: urllib3<3,>=1.21.1 in /usr/local/lib/python3.10/dist-packages (from requests>=2.19.0->pooch>=1.0->librosa) (2.0.7)\n",
            "Requirement already satisfied: certifi>=2017.4.17 in /usr/local/lib/python3.10/dist-packages (from requests>=2.19.0->pooch>=1.0->librosa) (2023.7.22)\n",
            "Requirement already satisfied: tensorflow in /usr/local/lib/python3.10/dist-packages (2.14.0)\n",
            "Requirement already satisfied: absl-py>=1.0.0 in /usr/local/lib/python3.10/dist-packages (from tensorflow) (1.4.0)\n",
            "Requirement already satisfied: astunparse>=1.6.0 in /usr/local/lib/python3.10/dist-packages (from tensorflow) (1.6.3)\n",
            "Requirement already satisfied: flatbuffers>=23.5.26 in /usr/local/lib/python3.10/dist-packages (from tensorflow) (23.5.26)\n",
            "Requirement already satisfied: gast!=0.5.0,!=0.5.1,!=0.5.2,>=0.2.1 in /usr/local/lib/python3.10/dist-packages (from tensorflow) (0.5.4)\n",
            "Requirement already satisfied: google-pasta>=0.1.1 in /usr/local/lib/python3.10/dist-packages (from tensorflow) (0.2.0)\n",
            "Requirement already satisfied: h5py>=2.9.0 in /usr/local/lib/python3.10/dist-packages (from tensorflow) (3.9.0)\n",
            "Requirement already satisfied: libclang>=13.0.0 in /usr/local/lib/python3.10/dist-packages (from tensorflow) (16.0.6)\n",
            "Requirement already satisfied: ml-dtypes==0.2.0 in /usr/local/lib/python3.10/dist-packages (from tensorflow) (0.2.0)\n",
            "Requirement already satisfied: numpy>=1.23.5 in /usr/local/lib/python3.10/dist-packages (from tensorflow) (1.23.5)\n",
            "Requirement already satisfied: opt-einsum>=2.3.2 in /usr/local/lib/python3.10/dist-packages (from tensorflow) (3.3.0)\n",
            "Requirement already satisfied: packaging in /usr/local/lib/python3.10/dist-packages (from tensorflow) (23.2)\n",
            "Requirement already satisfied: protobuf!=4.21.0,!=4.21.1,!=4.21.2,!=4.21.3,!=4.21.4,!=4.21.5,<5.0.0dev,>=3.20.3 in /usr/local/lib/python3.10/dist-packages (from tensorflow) (3.20.3)\n",
            "Requirement already satisfied: setuptools in /usr/local/lib/python3.10/dist-packages (from tensorflow) (67.7.2)\n",
            "Requirement already satisfied: six>=1.12.0 in /usr/local/lib/python3.10/dist-packages (from tensorflow) (1.16.0)\n",
            "Requirement already satisfied: termcolor>=1.1.0 in /usr/local/lib/python3.10/dist-packages (from tensorflow) (2.3.0)\n",
            "Requirement already satisfied: typing-extensions>=3.6.6 in /usr/local/lib/python3.10/dist-packages (from tensorflow) (4.5.0)\n",
            "Requirement already satisfied: wrapt<1.15,>=1.11.0 in /usr/local/lib/python3.10/dist-packages (from tensorflow) (1.14.1)\n",
            "Requirement already satisfied: tensorflow-io-gcs-filesystem>=0.23.1 in /usr/local/lib/python3.10/dist-packages (from tensorflow) (0.34.0)\n",
            "Requirement already satisfied: grpcio<2.0,>=1.24.3 in /usr/local/lib/python3.10/dist-packages (from tensorflow) (1.59.2)\n",
            "Requirement already satisfied: tensorboard<2.15,>=2.14 in /usr/local/lib/python3.10/dist-packages (from tensorflow) (2.14.1)\n",
            "Requirement already satisfied: tensorflow-estimator<2.15,>=2.14.0 in /usr/local/lib/python3.10/dist-packages (from tensorflow) (2.14.0)\n",
            "Requirement already satisfied: keras<2.15,>=2.14.0 in /usr/local/lib/python3.10/dist-packages (from tensorflow) (2.14.0)\n",
            "Requirement already satisfied: wheel<1.0,>=0.23.0 in /usr/local/lib/python3.10/dist-packages (from astunparse>=1.6.0->tensorflow) (0.41.3)\n",
            "Requirement already satisfied: google-auth<3,>=1.6.3 in /usr/local/lib/python3.10/dist-packages (from tensorboard<2.15,>=2.14->tensorflow) (2.17.3)\n",
            "Requirement already satisfied: google-auth-oauthlib<1.1,>=0.5 in /usr/local/lib/python3.10/dist-packages (from tensorboard<2.15,>=2.14->tensorflow) (1.0.0)\n",
            "Requirement already satisfied: markdown>=2.6.8 in /usr/local/lib/python3.10/dist-packages (from tensorboard<2.15,>=2.14->tensorflow) (3.5.1)\n",
            "Requirement already satisfied: requests<3,>=2.21.0 in /usr/local/lib/python3.10/dist-packages (from tensorboard<2.15,>=2.14->tensorflow) (2.31.0)\n",
            "Requirement already satisfied: tensorboard-data-server<0.8.0,>=0.7.0 in /usr/local/lib/python3.10/dist-packages (from tensorboard<2.15,>=2.14->tensorflow) (0.7.2)\n",
            "Requirement already satisfied: werkzeug>=1.0.1 in /usr/local/lib/python3.10/dist-packages (from tensorboard<2.15,>=2.14->tensorflow) (3.0.1)\n",
            "Requirement already satisfied: cachetools<6.0,>=2.0.0 in /usr/local/lib/python3.10/dist-packages (from google-auth<3,>=1.6.3->tensorboard<2.15,>=2.14->tensorflow) (5.3.2)\n",
            "Requirement already satisfied: pyasn1-modules>=0.2.1 in /usr/local/lib/python3.10/dist-packages (from google-auth<3,>=1.6.3->tensorboard<2.15,>=2.14->tensorflow) (0.3.0)\n",
            "Requirement already satisfied: rsa<5,>=3.1.4 in /usr/local/lib/python3.10/dist-packages (from google-auth<3,>=1.6.3->tensorboard<2.15,>=2.14->tensorflow) (4.9)\n",
            "Requirement already satisfied: requests-oauthlib>=0.7.0 in /usr/local/lib/python3.10/dist-packages (from google-auth-oauthlib<1.1,>=0.5->tensorboard<2.15,>=2.14->tensorflow) (1.3.1)\n",
            "Requirement already satisfied: charset-normalizer<4,>=2 in /usr/local/lib/python3.10/dist-packages (from requests<3,>=2.21.0->tensorboard<2.15,>=2.14->tensorflow) (3.3.2)\n",
            "Requirement already satisfied: idna<4,>=2.5 in /usr/local/lib/python3.10/dist-packages (from requests<3,>=2.21.0->tensorboard<2.15,>=2.14->tensorflow) (3.4)\n",
            "Requirement already satisfied: urllib3<3,>=1.21.1 in /usr/local/lib/python3.10/dist-packages (from requests<3,>=2.21.0->tensorboard<2.15,>=2.14->tensorflow) (2.0.7)\n",
            "Requirement already satisfied: certifi>=2017.4.17 in /usr/local/lib/python3.10/dist-packages (from requests<3,>=2.21.0->tensorboard<2.15,>=2.14->tensorflow) (2023.7.22)\n",
            "Requirement already satisfied: MarkupSafe>=2.1.1 in /usr/local/lib/python3.10/dist-packages (from werkzeug>=1.0.1->tensorboard<2.15,>=2.14->tensorflow) (2.1.3)\n",
            "Requirement already satisfied: pyasn1<0.6.0,>=0.4.6 in /usr/local/lib/python3.10/dist-packages (from pyasn1-modules>=0.2.1->google-auth<3,>=1.6.3->tensorboard<2.15,>=2.14->tensorflow) (0.5.0)\n",
            "Requirement already satisfied: oauthlib>=3.0.0 in /usr/local/lib/python3.10/dist-packages (from requests-oauthlib>=0.7.0->google-auth-oauthlib<1.1,>=0.5->tensorboard<2.15,>=2.14->tensorflow) (3.2.2)\n"
          ]
        }
      ],
      "source": [
        "!pip install librosa\n",
        "!pip install tensorflow"
      ]
    },
    {
      "cell_type": "code",
      "source": [
        "import numpy as np\n",
        "import tensorflow as tf\n",
        "from tensorflow.keras import layers, models\n",
        "from tensorflow.keras.utils import to_categorical\n",
        "import matplotlib.pyplot as plt\n",
        "from sklearn.model_selection import train_test_split"
      ],
      "metadata": {
        "id": "72erJi4iBtHp"
      },
      "execution_count": 2,
      "outputs": []
    },
    {
      "cell_type": "code",
      "source": [
        "np.random.seed(42)"
      ],
      "metadata": {
        "id": "pXjdD6HtB4zg"
      },
      "execution_count": 4,
      "outputs": []
    },
    {
      "cell_type": "code",
      "source": [
        "num_samples=1000\n",
        "num_features=20\n",
        "happy_data=np.random.normal(0,1,size=(num_samples,num_features))\n",
        "sad_data=np.random.normal(2,1,size=(num_samples,num_features))"
      ],
      "metadata": {
        "id": "2hnqX6rOCCZ_"
      },
      "execution_count": 5,
      "outputs": []
    },
    {
      "cell_type": "code",
      "source": [
        "happy_labels=np.zeros(num_samples)\n",
        "sad_labels=np.ones(num_samples)"
      ],
      "metadata": {
        "id": "HYBLiI-5CPLf"
      },
      "execution_count": 6,
      "outputs": []
    },
    {
      "cell_type": "code",
      "source": [
        "X=np.concatenate([happy_data,sad_data],axis=0)\n",
        "y=np.concatenate([happy_labels,sad_labels],axis=0)"
      ],
      "metadata": {
        "id": "2COTifT7CWff"
      },
      "execution_count": 7,
      "outputs": []
    },
    {
      "cell_type": "code",
      "source": [
        "y_onehot = to_categorical(y)"
      ],
      "metadata": {
        "id": "0JegLtfaCd9R"
      },
      "execution_count": 8,
      "outputs": []
    },
    {
      "cell_type": "code",
      "source": [
        "X_train, X_test, y_train, y_test = train_test_split(X, y_onehot, test_size=0.2, random_state=42)"
      ],
      "metadata": {
        "id": "1sI_3JAtCf03"
      },
      "execution_count": 9,
      "outputs": []
    },
    {
      "cell_type": "markdown",
      "source": [
        "**Building a simple neural network model**\n"
      ],
      "metadata": {
        "id": "Tfy8LTa1CrrO"
      }
    },
    {
      "cell_type": "code",
      "source": [
        "model=models.Sequential([\n",
        "    layers.Dense(256, activation='relu',input_shape=(num_features,)),\n",
        "    layers.Dropout(0.5),\n",
        "    layers.Dense(128,activation='relu'),\n",
        "    layers.Dropout(0.5),\n",
        "    layers.Dense(2,activation='softmax')  #(Two classes:happy&sad)\n",
        "])"
      ],
      "metadata": {
        "id": "IOOQGuDQCmY_"
      },
      "execution_count": 10,
      "outputs": []
    },
    {
      "cell_type": "code",
      "source": [
        "model.compile(\n",
        "    loss='categorical_crossentropy',\n",
        "    optimizer='adam',\n",
        "    metrics=['accuracy']\n",
        ")"
      ],
      "metadata": {
        "id": "ZqaY4ATTDMxO"
      },
      "execution_count": 11,
      "outputs": []
    },
    {
      "cell_type": "markdown",
      "source": [
        "**Training**"
      ],
      "metadata": {
        "id": "G8nK7BfVDRKF"
      }
    },
    {
      "cell_type": "code",
      "source": [
        "history = model.fit(\n",
        "    X_train,y_train,\n",
        "    epochs=50,\n",
        "    batch_size=32,\n",
        "    validation_data=(X_test,y_test)\n",
        ")"
      ],
      "metadata": {
        "colab": {
          "base_uri": "https://localhost:8080/"
        },
        "id": "VYuq9i3WDV2d",
        "outputId": "da172fc7-2f42-4be4-8a0b-be106d05b938"
      },
      "execution_count": 12,
      "outputs": [
        {
          "output_type": "stream",
          "name": "stdout",
          "text": [
            "Epoch 1/50\n",
            "50/50 [==============================] - 3s 10ms/step - loss: 0.1522 - accuracy: 0.9319 - val_loss: 0.0165 - val_accuracy: 0.9975\n",
            "Epoch 2/50\n",
            "50/50 [==============================] - 0s 5ms/step - loss: 0.0147 - accuracy: 0.9981 - val_loss: 0.0086 - val_accuracy: 0.9975\n",
            "Epoch 3/50\n",
            "50/50 [==============================] - 0s 5ms/step - loss: 0.0068 - accuracy: 0.9987 - val_loss: 0.0068 - val_accuracy: 0.9975\n",
            "Epoch 4/50\n",
            "50/50 [==============================] - 0s 5ms/step - loss: 0.0061 - accuracy: 0.9981 - val_loss: 0.0025 - val_accuracy: 1.0000\n",
            "Epoch 5/50\n",
            "50/50 [==============================] - 0s 5ms/step - loss: 0.0039 - accuracy: 0.9987 - val_loss: 0.0050 - val_accuracy: 0.9975\n",
            "Epoch 6/50\n",
            "50/50 [==============================] - 0s 5ms/step - loss: 0.0040 - accuracy: 0.9994 - val_loss: 0.0018 - val_accuracy: 1.0000\n",
            "Epoch 7/50\n",
            "50/50 [==============================] - 0s 6ms/step - loss: 0.0027 - accuracy: 1.0000 - val_loss: 0.0040 - val_accuracy: 0.9975\n",
            "Epoch 8/50\n",
            "50/50 [==============================] - 0s 10ms/step - loss: 9.2983e-04 - accuracy: 1.0000 - val_loss: 0.0024 - val_accuracy: 1.0000\n",
            "Epoch 9/50\n",
            "50/50 [==============================] - 0s 5ms/step - loss: 0.0017 - accuracy: 0.9987 - val_loss: 0.0025 - val_accuracy: 0.9975\n",
            "Epoch 10/50\n",
            "50/50 [==============================] - 0s 6ms/step - loss: 7.8237e-04 - accuracy: 1.0000 - val_loss: 0.0027 - val_accuracy: 0.9975\n",
            "Epoch 11/50\n",
            "50/50 [==============================] - 0s 5ms/step - loss: 5.5291e-04 - accuracy: 1.0000 - val_loss: 0.0013 - val_accuracy: 1.0000\n",
            "Epoch 12/50\n",
            "50/50 [==============================] - 0s 5ms/step - loss: 0.0023 - accuracy: 0.9994 - val_loss: 0.0041 - val_accuracy: 0.9975\n",
            "Epoch 13/50\n",
            "50/50 [==============================] - 0s 5ms/step - loss: 8.4110e-04 - accuracy: 0.9994 - val_loss: 0.0014 - val_accuracy: 1.0000\n",
            "Epoch 14/50\n",
            "50/50 [==============================] - 0s 5ms/step - loss: 3.4060e-04 - accuracy: 1.0000 - val_loss: 0.0019 - val_accuracy: 1.0000\n",
            "Epoch 15/50\n",
            "50/50 [==============================] - 0s 5ms/step - loss: 3.9781e-04 - accuracy: 1.0000 - val_loss: 0.0019 - val_accuracy: 1.0000\n",
            "Epoch 16/50\n",
            "50/50 [==============================] - 0s 5ms/step - loss: 5.4252e-04 - accuracy: 1.0000 - val_loss: 0.0024 - val_accuracy: 0.9975\n",
            "Epoch 17/50\n",
            "50/50 [==============================] - 0s 5ms/step - loss: 3.6494e-04 - accuracy: 1.0000 - val_loss: 0.0012 - val_accuracy: 1.0000\n",
            "Epoch 18/50\n",
            "50/50 [==============================] - 0s 5ms/step - loss: 0.0049 - accuracy: 0.9994 - val_loss: 0.0082 - val_accuracy: 0.9950\n",
            "Epoch 19/50\n",
            "50/50 [==============================] - 0s 5ms/step - loss: 3.2795e-04 - accuracy: 1.0000 - val_loss: 0.0057 - val_accuracy: 0.9975\n",
            "Epoch 20/50\n",
            "50/50 [==============================] - 0s 6ms/step - loss: 8.8548e-04 - accuracy: 0.9994 - val_loss: 4.8089e-04 - val_accuracy: 1.0000\n",
            "Epoch 21/50\n",
            "50/50 [==============================] - 0s 5ms/step - loss: 0.0013 - accuracy: 0.9994 - val_loss: 0.0071 - val_accuracy: 0.9950\n",
            "Epoch 22/50\n",
            "50/50 [==============================] - 0s 5ms/step - loss: 2.5411e-04 - accuracy: 1.0000 - val_loss: 0.0034 - val_accuracy: 0.9975\n",
            "Epoch 23/50\n",
            "50/50 [==============================] - 0s 5ms/step - loss: 2.4856e-04 - accuracy: 1.0000 - val_loss: 0.0016 - val_accuracy: 1.0000\n",
            "Epoch 24/50\n",
            "50/50 [==============================] - 0s 6ms/step - loss: 2.3813e-04 - accuracy: 1.0000 - val_loss: 0.0024 - val_accuracy: 0.9975\n",
            "Epoch 25/50\n",
            "50/50 [==============================] - 0s 5ms/step - loss: 3.6752e-04 - accuracy: 1.0000 - val_loss: 0.0032 - val_accuracy: 0.9975\n",
            "Epoch 26/50\n",
            "50/50 [==============================] - 0s 6ms/step - loss: 1.8881e-04 - accuracy: 1.0000 - val_loss: 0.0053 - val_accuracy: 0.9975\n",
            "Epoch 27/50\n",
            "50/50 [==============================] - 0s 4ms/step - loss: 1.8774e-04 - accuracy: 1.0000 - val_loss: 0.0024 - val_accuracy: 0.9975\n",
            "Epoch 28/50\n",
            "50/50 [==============================] - 0s 5ms/step - loss: 2.6212e-04 - accuracy: 1.0000 - val_loss: 4.3035e-04 - val_accuracy: 1.0000\n",
            "Epoch 29/50\n",
            "50/50 [==============================] - 0s 5ms/step - loss: 3.3498e-05 - accuracy: 1.0000 - val_loss: 6.5009e-04 - val_accuracy: 1.0000\n",
            "Epoch 30/50\n",
            "50/50 [==============================] - 0s 5ms/step - loss: 5.1688e-05 - accuracy: 1.0000 - val_loss: 7.1502e-04 - val_accuracy: 1.0000\n",
            "Epoch 31/50\n",
            "50/50 [==============================] - 0s 5ms/step - loss: 1.0038e-04 - accuracy: 1.0000 - val_loss: 7.9932e-04 - val_accuracy: 1.0000\n",
            "Epoch 32/50\n",
            "50/50 [==============================] - 0s 5ms/step - loss: 2.1198e-04 - accuracy: 1.0000 - val_loss: 0.0010 - val_accuracy: 1.0000\n",
            "Epoch 33/50\n",
            "50/50 [==============================] - 0s 5ms/step - loss: 3.0709e-05 - accuracy: 1.0000 - val_loss: 0.0010 - val_accuracy: 1.0000\n",
            "Epoch 34/50\n",
            "50/50 [==============================] - 0s 5ms/step - loss: 5.0775e-04 - accuracy: 1.0000 - val_loss: 0.0030 - val_accuracy: 0.9975\n",
            "Epoch 35/50\n",
            "50/50 [==============================] - 0s 5ms/step - loss: 1.6455e-04 - accuracy: 1.0000 - val_loss: 0.0041 - val_accuracy: 0.9975\n",
            "Epoch 36/50\n",
            "50/50 [==============================] - 0s 6ms/step - loss: 1.0243e-04 - accuracy: 1.0000 - val_loss: 0.0030 - val_accuracy: 0.9975\n",
            "Epoch 37/50\n",
            "50/50 [==============================] - 0s 5ms/step - loss: 3.5009e-04 - accuracy: 1.0000 - val_loss: 6.1639e-04 - val_accuracy: 1.0000\n",
            "Epoch 38/50\n",
            "50/50 [==============================] - 0s 8ms/step - loss: 4.8715e-04 - accuracy: 0.9994 - val_loss: 0.0049 - val_accuracy: 0.9975\n",
            "Epoch 39/50\n",
            "50/50 [==============================] - 0s 7ms/step - loss: 7.8388e-05 - accuracy: 1.0000 - val_loss: 0.0040 - val_accuracy: 0.9975\n",
            "Epoch 40/50\n",
            "50/50 [==============================] - 0s 7ms/step - loss: 7.7633e-05 - accuracy: 1.0000 - val_loss: 0.0025 - val_accuracy: 0.9975\n",
            "Epoch 41/50\n",
            "50/50 [==============================] - 0s 8ms/step - loss: 2.6668e-05 - accuracy: 1.0000 - val_loss: 0.0021 - val_accuracy: 0.9975\n",
            "Epoch 42/50\n",
            "50/50 [==============================] - 0s 7ms/step - loss: 7.2911e-04 - accuracy: 0.9994 - val_loss: 0.0019 - val_accuracy: 0.9975\n",
            "Epoch 43/50\n",
            "50/50 [==============================] - 0s 7ms/step - loss: 3.8219e-04 - accuracy: 1.0000 - val_loss: 0.0148 - val_accuracy: 0.9950\n",
            "Epoch 44/50\n",
            "50/50 [==============================] - 0s 7ms/step - loss: 0.0021 - accuracy: 0.9994 - val_loss: 0.0068 - val_accuracy: 0.9975\n",
            "Epoch 45/50\n",
            "50/50 [==============================] - 0s 8ms/step - loss: 2.0637e-04 - accuracy: 1.0000 - val_loss: 0.0048 - val_accuracy: 0.9975\n",
            "Epoch 46/50\n",
            "50/50 [==============================] - 0s 7ms/step - loss: 8.8616e-05 - accuracy: 1.0000 - val_loss: 0.0033 - val_accuracy: 0.9975\n",
            "Epoch 47/50\n",
            "50/50 [==============================] - 0s 7ms/step - loss: 4.0831e-05 - accuracy: 1.0000 - val_loss: 0.0031 - val_accuracy: 0.9975\n",
            "Epoch 48/50\n",
            "50/50 [==============================] - 0s 8ms/step - loss: 4.1955e-05 - accuracy: 1.0000 - val_loss: 0.0020 - val_accuracy: 1.0000\n",
            "Epoch 49/50\n",
            "50/50 [==============================] - 0s 7ms/step - loss: 8.8458e-05 - accuracy: 1.0000 - val_loss: 0.0048 - val_accuracy: 0.9975\n",
            "Epoch 50/50\n",
            "50/50 [==============================] - 0s 6ms/step - loss: 3.9269e-05 - accuracy: 1.0000 - val_loss: 0.0033 - val_accuracy: 0.9975\n"
          ]
        }
      ]
    },
    {
      "cell_type": "markdown",
      "source": [
        "**Evaluating**"
      ],
      "metadata": {
        "id": "cBZDBmVPDlEn"
      }
    },
    {
      "cell_type": "code",
      "source": [
        "loss, accuracy = model.evaluate(X_test, y_test)\n",
        "print(f'Test Loss: {loss:.4f}, Test Accuracy: {accuracy:.4f}')"
      ],
      "metadata": {
        "colab": {
          "base_uri": "https://localhost:8080/"
        },
        "id": "HCEtbpYTDj0m",
        "outputId": "d6c569eb-c8e0-439c-8888-a269d5dced23"
      },
      "execution_count": 13,
      "outputs": [
        {
          "output_type": "stream",
          "name": "stdout",
          "text": [
            "13/13 [==============================] - 0s 2ms/step - loss: 0.0033 - accuracy: 0.9975\n",
            "Test Loss: 0.0033, Test Accuracy: 0.9975\n"
          ]
        }
      ]
    },
    {
      "cell_type": "code",
      "source": [
        "plt.figure(figsize=(12, 6))\n",
        "plt.plot(history.history['accuracy'], label='Training Accuracy')\n",
        "plt.plot(history.history['val_accuracy'], label='Validation Accuracy')\n",
        "plt.title('Training and Validation Accuracy')\n",
        "plt.xlabel('Epoch')\n",
        "plt.ylabel('Accuracy')\n",
        "plt.legend()\n",
        "plt.show()"
      ],
      "metadata": {
        "colab": {
          "base_uri": "https://localhost:8080/",
          "height": 366
        },
        "id": "Rgkdz2R-D2GP",
        "outputId": "6b48c05b-6f8d-4d5f-c634-53f6a2547a29"
      },
      "execution_count": 14,
      "outputs": [
        {
          "output_type": "display_data",
          "data": {
            "text/plain": [
              "<Figure size 1200x600 with 1 Axes>"
            ],
            "image/png": "[encoded data removed]"
          },
          "metadata": {}
        }
      ]
    },
    {
      "cell_type": "code",
      "source": [
        "new_audio_sample = np.random.rand(1, num_features)\n",
        "predicted_probabilities = model.predict(new_audio_sample)\n",
        "\n",
        "predicted_class = np.argmax(predicted_probabilities)\n",
        "emotion_mapping = {0: 'happy', 1: 'sad', 2: 'angry', 3: 'fear'}\n",
        "predicted_emotion = emotion_mapping[predicted_class]\n",
        "\n",
        "print('Predicted Emotion: ',predicted_emotion)\n"
      ],
      "metadata": {
        "colab": {
          "base_uri": "https://localhost:8080/"
        },
        "id": "SgliBWMhECz3",
        "outputId": "3e125c12-5149-4f3b-8a6f-6fb75710bab9"
      },
      "execution_count": 15,
      "outputs": [
        {
          "output_type": "stream",
          "name": "stdout",
          "text": [
            "1/1 [==============================] - 0s 96ms/step\n",
            "Predicted Emotion:  sad\n"
          ]
        }
      ]
    }
  ]
}